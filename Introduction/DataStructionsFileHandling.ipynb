{
  "nbformat": 4,
  "nbformat_minor": 0,
  "metadata": {
    "colab": {
      "name": "Basic_Python_for_NLP.ipynb",
      "provenance": [],
      "collapsed_sections": [
        "ygQiOEoPWo4Q",
        "-nWWfMH2WiWx",
        "6zW6I_YJWtYY",
        "YM0vxnuJWxQW",
        "fLtfFMN6Wz-O",
        "t7hKMVdQW4tS"
      ]
    },
    "kernelspec": {
      "name": "python3",
      "display_name": "Python 3"
    }
  },
  "cells": [
    {
      "cell_type": "markdown",
      "metadata": {
        "id": "ygQiOEoPWo4Q"
      },
      "source": [
        "# List"
      ]
    },
    {
      "cell_type": "markdown",
      "metadata": {
        "id": "PqdxfQBBR3Eb"
      },
      "source": [
        "\n",
        "\n",
        "*   Contains hetrogeneous objects\n",
        "*   Contained within [ ]\n",
        "*   Separated by comma(,)\n"
      ]
    },
    {
      "cell_type": "markdown",
      "metadata": {
        "id": "23kayu2XsJh5"
      },
      "source": [
        "**Declaration**"
      ]
    },
    {
      "cell_type": "code",
      "metadata": {
        "id": "OGhyQMu-CA4E"
      },
      "source": [
        "list1=[]\n",
        "list2=[1,2]\n",
        "list3=['a',1,'#']\n",
        "list4=list()\n",
        "list4=[1,2,3,4]    "
      ],
      "execution_count": null,
      "outputs": []
    },
    {
      "cell_type": "code",
      "metadata": {
        "id": "en8X5M-0DUmZ",
        "colab": {
          "base_uri": "https://localhost:8080/",
          "height": 102
        },
        "outputId": "c890b8a7-b85e-4119-819f-f943ecf11923"
      },
      "source": [
        "print(list1, '\\n',\n",
        "      list2, '\\n',\n",
        "      list3, '\\n',\n",
        "      list4, '\\n')"
      ],
      "execution_count": null,
      "outputs": [
        {
          "output_type": "stream",
          "text": [
            "[] \n",
            " [1, 2] \n",
            " ['a', 1, '#'] \n",
            " [1, 2, 3, 4] \n",
            "\n"
          ],
          "name": "stdout"
        }
      ]
    },
    {
      "cell_type": "markdown",
      "metadata": {
        "id": "AJthi5nJ20Wz"
      },
      "source": [
        "**Traversal**"
      ]
    },
    {
      "cell_type": "code",
      "metadata": {
        "id": "XLvGCY4g2zwr",
        "colab": {
          "base_uri": "https://localhost:8080/",
          "height": 89
        },
        "outputId": "6511eb51-5f46-448f-9c08-75f8d7b27cc4"
      },
      "source": [
        "# forward traversal\n",
        "# range(start_index, end_index)\n",
        "\n",
        "for i in range(len(list4)):\n",
        "  print(list4[i])  "
      ],
      "execution_count": null,
      "outputs": [
        {
          "output_type": "stream",
          "text": [
            "1\n",
            "2\n",
            "3\n",
            "4\n"
          ],
          "name": "stdout"
        }
      ]
    },
    {
      "cell_type": "code",
      "metadata": {
        "id": "1yf_dOsS3Bia",
        "colab": {
          "base_uri": "https://localhost:8080/",
          "height": 89
        },
        "outputId": "d2897f05-0e84-4436-d941-0b42e96a3bc5"
      },
      "source": [
        "# backward traversal\n",
        "# range(start_index, end_index, increment)\n",
        "\n",
        "for i in range(len(list4)-1,-1,-1):\n",
        "  print(list4[i])"
      ],
      "execution_count": null,
      "outputs": [
        {
          "output_type": "stream",
          "text": [
            "4\n",
            "3\n",
            "2\n",
            "1\n"
          ],
          "name": "stdout"
        }
      ]
    },
    {
      "cell_type": "markdown",
      "metadata": {
        "id": "VCPmq3Lcs35e"
      },
      "source": [
        "**Operations**"
      ]
    },
    {
      "cell_type": "code",
      "metadata": {
        "id": "5bfLP0Exu29T",
        "colab": {
          "base_uri": "https://localhost:8080/",
          "height": 107
        },
        "outputId": "1270ccc4-52a5-49fd-9526-a35bad75b3e4"
      },
      "source": [
        "#accessing item in a list\n",
        "#list_name[index]\n",
        "#list_name[start_index:end_index]  #also called slicing\n",
        "\n",
        "print(list4[1],   '\\n', \n",
        "      list4[0:3], '\\n', \n",
        "      list4[:3],  '\\n', \n",
        "      list4[1:],  '\\n',\n",
        "      list4[-1])"
      ],
      "execution_count": null,
      "outputs": [
        {
          "output_type": "stream",
          "text": [
            "2 \n",
            " [1, 2, 3] \n",
            " [1, 2, 3] \n",
            " [2, 3, 4] \n",
            " 4\n"
          ],
          "name": "stdout"
        }
      ]
    },
    {
      "cell_type": "code",
      "metadata": {
        "id": "K3lAPSbMs6h6",
        "colab": {
          "base_uri": "https://localhost:8080/",
          "height": 35
        },
        "outputId": "07bf5fff-8136-46de-afa1-5494cb9d28f1"
      },
      "source": [
        "#append(insert at end)\n",
        "#list_name.append(item)\n",
        "\n",
        "list1.append('new_element')\n",
        "list1"
      ],
      "execution_count": null,
      "outputs": [
        {
          "output_type": "execute_result",
          "data": {
            "text/plain": [
              "['new_element']"
            ]
          },
          "metadata": {
            "tags": []
          },
          "execution_count": 6
        }
      ]
    },
    {
      "cell_type": "code",
      "metadata": {
        "id": "Y0ufPYhmuD4Q",
        "colab": {
          "base_uri": "https://localhost:8080/",
          "height": 35
        },
        "outputId": "c0f13bb9-89ca-44b5-83e2-41729f7aa252"
      },
      "source": [
        "#extend (insert multiple items simultaneously)\n",
        "#list_name.extend([list of items])\n",
        "\n",
        "list1.extend(['new_element1','new_element2', 'new_element3'])\n",
        "list1"
      ],
      "execution_count": null,
      "outputs": [
        {
          "output_type": "execute_result",
          "data": {
            "text/plain": [
              "['new_element', 'new_element1', 'new_element2', 'new_element3']"
            ]
          },
          "metadata": {
            "tags": []
          },
          "execution_count": 7
        }
      ]
    },
    {
      "cell_type": "code",
      "metadata": {
        "id": "sVmetxDktLbx",
        "colab": {
          "base_uri": "https://localhost:8080/",
          "height": 35
        },
        "outputId": "d700e337-6d4e-4834-e45f-0f3243137532"
      },
      "source": [
        "#insert at position\n",
        "#list_name.insert(position, value)\n",
        "\n",
        "list1.insert(2,'new')\n",
        "list1"
      ],
      "execution_count": null,
      "outputs": [
        {
          "output_type": "execute_result",
          "data": {
            "text/plain": [
              "['new_element', 'new_element1', 'new', 'new_element2', 'new_element3']"
            ]
          },
          "metadata": {
            "tags": []
          },
          "execution_count": 8
        }
      ]
    },
    {
      "cell_type": "code",
      "metadata": {
        "id": "X7sGso3ItmXg",
        "colab": {
          "base_uri": "https://localhost:8080/",
          "height": 221
        },
        "outputId": "ebdf252b-9880-46d9-cc3a-81f7afa2bf52"
      },
      "source": [
        "#delete \n",
        "#list_name.remove(item)\n",
        "#list_name.pop(index)\n",
        "#del list_name([start_index: end_index])\n",
        "\n",
        "print('Before delete operation')\n",
        "print(list1, '\\n',\n",
        "      list2, '\\n',\n",
        "      list3, '\\n',\n",
        "      list4, '\\n')\n",
        "\n",
        "list1.remove('new') #removes the first occurrence of item \n",
        "list2.pop(1)\n",
        "del list3[-1]\n",
        "print('After delete operation')\n",
        "print(list1, '\\n',\n",
        "      list2, '\\n',\n",
        "      list3, '\\n',\n",
        "      list4, '\\n')"
      ],
      "execution_count": null,
      "outputs": [
        {
          "output_type": "stream",
          "text": [
            "Before delete operation\n",
            "['new_element', 'new_element1', 'new', 'new_element2', 'new_element3'] \n",
            " [1, 2] \n",
            " ['a', 1, '#'] \n",
            " [1, 2, 3, 4] \n",
            "\n",
            "After delete operation\n",
            "['new_element', 'new_element1', 'new_element2', 'new_element3'] \n",
            " [1] \n",
            " ['a', 1] \n",
            " [1, 2, 3, 4] \n",
            "\n"
          ],
          "name": "stdout"
        }
      ]
    },
    {
      "cell_type": "code",
      "metadata": {
        "id": "qieczX4oynwf",
        "colab": {
          "base_uri": "https://localhost:8080/",
          "height": 102
        },
        "outputId": "4ef79f2f-a679-443d-8d57-338ba78d887c"
      },
      "source": [
        "#reverse\n",
        "#list_name.reverse()\n",
        "\n",
        "print('Before reverse')\n",
        "print(list1)\n",
        "print('\\nAfter reverse')\n",
        "list1.reverse()\n",
        "print(list1)"
      ],
      "execution_count": null,
      "outputs": [
        {
          "output_type": "stream",
          "text": [
            "Before reverse\n",
            "['new_element', 'new_element1', 'new_element2', 'new_element3']\n",
            "\n",
            "After reverse\n",
            "['new_element3', 'new_element2', 'new_element1', 'new_element']\n"
          ],
          "name": "stdout"
        }
      ]
    },
    {
      "cell_type": "code",
      "metadata": {
        "id": "_hmVv6R9y5B5",
        "colab": {
          "base_uri": "https://localhost:8080/",
          "height": 102
        },
        "outputId": "17762703-086d-4ac7-a42e-7fe6f46c6584"
      },
      "source": [
        "#sort\n",
        "#list_name.sort()\n",
        "\n",
        "print('Before sorting')\n",
        "print(list1)\n",
        "print('\\nAfter sorting')\n",
        "list1.sort()\n",
        "print(list1)"
      ],
      "execution_count": null,
      "outputs": [
        {
          "output_type": "stream",
          "text": [
            "Before sorting\n",
            "['new_element', 'new_element1', 'new_element2', 'new_element3']\n",
            "\n",
            "After sorting\n",
            "['new_element', 'new_element1', 'new_element2', 'new_element3']\n"
          ],
          "name": "stdout"
        }
      ]
    },
    {
      "cell_type": "markdown",
      "metadata": {
        "id": "-nWWfMH2WiWx"
      },
      "source": [
        "# String"
      ]
    },
    {
      "cell_type": "markdown",
      "metadata": {
        "id": "VBUlki1qSxzl"
      },
      "source": [
        "\n",
        "*  Sequence of characters\n",
        "*  Enclosed within single quotes (' ') or double quotes (\" \")   \n",
        "\n"
      ]
    },
    {
      "cell_type": "markdown",
      "metadata": {
        "id": "JJdNv0X7rWBv"
      },
      "source": [
        "**Declaration**"
      ]
    },
    {
      "cell_type": "code",
      "metadata": {
        "id": "tjIFsyOz-Hpr"
      },
      "source": [
        "s1='string1'\n",
        "s2=\"string2\"\n",
        "s3='''string\n",
        "    3, in multiple \n",
        "    lines'''"
      ],
      "execution_count": null,
      "outputs": []
    },
    {
      "cell_type": "code",
      "metadata": {
        "id": "kVgqnzh3_24m",
        "colab": {
          "base_uri": "https://localhost:8080/",
          "height": 34
        },
        "outputId": "57d13618-d13b-4b2e-abea-becb42ffdd57"
      },
      "source": [
        "s1"
      ],
      "execution_count": null,
      "outputs": [
        {
          "output_type": "execute_result",
          "data": {
            "text/plain": [
              "'string1'"
            ]
          },
          "metadata": {
            "tags": []
          },
          "execution_count": 2
        }
      ]
    },
    {
      "cell_type": "code",
      "metadata": {
        "id": "-KusgOtd_3u1",
        "colab": {
          "base_uri": "https://localhost:8080/",
          "height": 34
        },
        "outputId": "442457bf-da71-44fc-a404-4f2fb8ec83da"
      },
      "source": [
        "s2"
      ],
      "execution_count": null,
      "outputs": [
        {
          "output_type": "execute_result",
          "data": {
            "text/plain": [
              "'string2'"
            ]
          },
          "metadata": {
            "tags": []
          },
          "execution_count": 3
        }
      ]
    },
    {
      "cell_type": "code",
      "metadata": {
        "id": "ndqzbnhv_4Rv",
        "colab": {
          "base_uri": "https://localhost:8080/",
          "height": 34
        },
        "outputId": "bcc3c98d-5553-4461-b437-c5b8defcfd43"
      },
      "source": [
        "s3"
      ],
      "execution_count": null,
      "outputs": [
        {
          "output_type": "execute_result",
          "data": {
            "text/plain": [
              "'string\\n    3, in multiple \\n    lines'"
            ]
          },
          "metadata": {
            "tags": []
          },
          "execution_count": 4
        }
      ]
    },
    {
      "cell_type": "markdown",
      "metadata": {
        "id": "sRiYqYA6rZ9I"
      },
      "source": [
        "**Concatenation**"
      ]
    },
    {
      "cell_type": "code",
      "metadata": {
        "id": "o6s7vWmx_46D"
      },
      "source": [
        "# + operator  is used for concatenation\n",
        "\n",
        "str_concat= s1+s2"
      ],
      "execution_count": null,
      "outputs": []
    },
    {
      "cell_type": "code",
      "metadata": {
        "id": "GH_gEcvxqrvK",
        "colab": {
          "base_uri": "https://localhost:8080/",
          "height": 34
        },
        "outputId": "550a9b5b-8cbd-465a-f60a-c88de103a826"
      },
      "source": [
        "str_concat"
      ],
      "execution_count": null,
      "outputs": [
        {
          "output_type": "execute_result",
          "data": {
            "text/plain": [
              "'string1string2'"
            ]
          },
          "metadata": {
            "tags": []
          },
          "execution_count": 6
        }
      ]
    },
    {
      "cell_type": "code",
      "metadata": {
        "id": "QFuKaPV8qurV"
      },
      "source": [
        "# multiple string concatenation\n",
        "\n",
        "str_concat=s1+' '+s2"
      ],
      "execution_count": null,
      "outputs": []
    },
    {
      "cell_type": "code",
      "metadata": {
        "id": "BLeKzeWOqxzw",
        "colab": {
          "base_uri": "https://localhost:8080/",
          "height": 34
        },
        "outputId": "90dfec81-b47d-4803-e253-15b90da30ccb"
      },
      "source": [
        "str_concat"
      ],
      "execution_count": null,
      "outputs": [
        {
          "output_type": "execute_result",
          "data": {
            "text/plain": [
              "'string1 string2'"
            ]
          },
          "metadata": {
            "tags": []
          },
          "execution_count": 8
        }
      ]
    },
    {
      "cell_type": "markdown",
      "metadata": {
        "id": "WAdBNnr2rnwk"
      },
      "source": [
        "**Case-Folding**"
      ]
    },
    {
      "cell_type": "code",
      "metadata": {
        "id": "CjZYOaBpq101",
        "colab": {
          "base_uri": "https://localhost:8080/",
          "height": 34
        },
        "outputId": "db47eb91-217c-40c4-b14f-521f34f22f89"
      },
      "source": [
        "# convert to lower case\n",
        "\n",
        "str_concat.lower()"
      ],
      "execution_count": null,
      "outputs": [
        {
          "output_type": "execute_result",
          "data": {
            "text/plain": [
              "'string1 string2'"
            ]
          },
          "metadata": {
            "tags": []
          },
          "execution_count": 9
        }
      ]
    },
    {
      "cell_type": "code",
      "metadata": {
        "id": "9UpiUE7Gq46S",
        "colab": {
          "base_uri": "https://localhost:8080/",
          "height": 34
        },
        "outputId": "81ecf8b0-861f-4c7c-c6ed-423328a609db"
      },
      "source": [
        "# convert to upper case\n",
        "\n",
        "str_concat.upper()"
      ],
      "execution_count": null,
      "outputs": [
        {
          "output_type": "execute_result",
          "data": {
            "text/plain": [
              "'STRING1 STRING2'"
            ]
          },
          "metadata": {
            "tags": []
          },
          "execution_count": 10
        }
      ]
    },
    {
      "cell_type": "code",
      "metadata": {
        "id": "Ap4tjHtuq78_",
        "colab": {
          "base_uri": "https://localhost:8080/",
          "height": 34
        },
        "outputId": "ee57a552-5817-406b-e1da-1dbc23fcc5d1"
      },
      "source": [
        "# split a string\n",
        "# string_name.split(delimeter)\n",
        "# return type: List\n",
        "\n",
        "str_concat.split(' ')"
      ],
      "execution_count": null,
      "outputs": [
        {
          "output_type": "execute_result",
          "data": {
            "text/plain": [
              "['string1', 'string2']"
            ]
          },
          "metadata": {
            "tags": []
          },
          "execution_count": 11
        }
      ]
    },
    {
      "cell_type": "code",
      "metadata": {
        "id": "k1L0P142q-SC",
        "colab": {
          "base_uri": "https://localhost:8080/",
          "height": 34
        },
        "outputId": "96bd6f3c-2b08-4104-938e-d23dc602cf9b"
      },
      "source": [
        "str_concat.split(' ')[0]"
      ],
      "execution_count": null,
      "outputs": [
        {
          "output_type": "execute_result",
          "data": {
            "text/plain": [
              "'string1'"
            ]
          },
          "metadata": {
            "tags": []
          },
          "execution_count": 12
        }
      ]
    },
    {
      "cell_type": "code",
      "metadata": {
        "id": "jgQE3NbFrA_e",
        "colab": {
          "base_uri": "https://localhost:8080/",
          "height": 34
        },
        "outputId": "f6650e58-fbca-4671-a30a-e2ead8de7b98"
      },
      "source": [
        "str_concat.split(' ')[1]"
      ],
      "execution_count": null,
      "outputs": [
        {
          "output_type": "execute_result",
          "data": {
            "text/plain": [
              "'string2'"
            ]
          },
          "metadata": {
            "tags": []
          },
          "execution_count": 13
        }
      ]
    },
    {
      "cell_type": "code",
      "metadata": {
        "id": "U4WTl0IdrEHz",
        "colab": {
          "base_uri": "https://localhost:8080/",
          "height": 34
        },
        "outputId": "27eab01c-f3fb-46dd-f312-a3bdea2a562b"
      },
      "source": [
        "# length of string\n",
        "# len(string_name)\n",
        "\n",
        "len(str_concat.split(' ')[1])"
      ],
      "execution_count": null,
      "outputs": [
        {
          "output_type": "execute_result",
          "data": {
            "text/plain": [
              "7"
            ]
          },
          "metadata": {
            "tags": []
          },
          "execution_count": 14
        }
      ]
    },
    {
      "cell_type": "code",
      "metadata": {
        "id": "FrHPp6dFrHER",
        "colab": {
          "base_uri": "https://localhost:8080/",
          "height": 136
        },
        "outputId": "7b412316-55d9-4954-eec0-c9933e1bdc0e"
      },
      "source": [
        "# string traversal\n",
        "# range(start_index, end_index)\n",
        "\n",
        "for i in range(len(str_concat.split(' ')[1])):\n",
        "    print(str_concat.split(' ')[1][i])"
      ],
      "execution_count": null,
      "outputs": [
        {
          "output_type": "stream",
          "text": [
            "s\n",
            "t\n",
            "r\n",
            "i\n",
            "n\n",
            "g\n",
            "2\n"
          ],
          "name": "stdout"
        }
      ]
    },
    {
      "cell_type": "markdown",
      "metadata": {
        "id": "6zW6I_YJWtYY"
      },
      "source": [
        "# Dictionary"
      ]
    },
    {
      "cell_type": "markdown",
      "metadata": {
        "id": "ul-iGCNo-dsh"
      },
      "source": [
        "\n",
        "*   Contains *key:value* pairs\n",
        "*   Unordered collection (no access by index)\n",
        "*   Comma separated\n",
        "*   Enclosed within { }\n",
        "\n",
        "\n",
        "\n"
      ]
    },
    {
      "cell_type": "markdown",
      "metadata": {
        "id": "C2fORexP03jY"
      },
      "source": [
        "**Declaration**"
      ]
    },
    {
      "cell_type": "code",
      "metadata": {
        "id": "LWImJ3m402re",
        "colab": {
          "base_uri": "https://localhost:8080/",
          "height": 68
        },
        "outputId": "0f896ca2-50f3-4abf-f4af-98f95ad9a447"
      },
      "source": [
        "dict1={1:'First'}\n",
        "dict2=dict({1:'First',2:'Second'})\n",
        "dict3=dict([(1,'First'),(2,'Second'),(3,'Third')])\n",
        "\n",
        "print(dict1,'\\n', dict2,'\\n', dict3)"
      ],
      "execution_count": null,
      "outputs": [
        {
          "output_type": "stream",
          "text": [
            "{1: 'First'} \n",
            " {1: 'First', 2: 'Second'} \n",
            " {1: 'First', 2: 'Second', 3: 'Third'}\n"
          ],
          "name": "stdout"
        }
      ]
    },
    {
      "cell_type": "code",
      "metadata": {
        "id": "94cfWAYr6ElG",
        "colab": {
          "base_uri": "https://localhost:8080/",
          "height": 34
        },
        "outputId": "f9463db2-3c3a-430d-8499-146299ecaa0e"
      },
      "source": [
        "# accessing element in dictionary\n",
        "# dict_name[key]\n",
        "\n",
        "print(dict2[2])"
      ],
      "execution_count": null,
      "outputs": [
        {
          "output_type": "stream",
          "text": [
            "Second\n"
          ],
          "name": "stdout"
        }
      ]
    },
    {
      "cell_type": "markdown",
      "metadata": {
        "id": "Nes6fUVw1_72"
      },
      "source": [
        "**Operations**"
      ]
    },
    {
      "cell_type": "code",
      "metadata": {
        "id": "tQv9Q2AT1B_M",
        "colab": {
          "base_uri": "https://localhost:8080/",
          "height": 102
        },
        "outputId": "128d7bab-4de3-40c0-95e9-4ca557b4d83a"
      },
      "source": [
        "# Adding new element\n",
        "# dict_name[key]=value\n",
        "\n",
        "print('dict3 before','\\n',dict3,'\\n')\n",
        "dict3[4]='Fourth'       # similar to update the value\n",
        "print('dict3 after')\n",
        "dict3"
      ],
      "execution_count": null,
      "outputs": [
        {
          "output_type": "stream",
          "text": [
            "dict3 before \n",
            " {1: 'First', 2: 'Second', 3: 'Third'} \n",
            "\n",
            "dict3 after\n"
          ],
          "name": "stdout"
        },
        {
          "output_type": "execute_result",
          "data": {
            "text/plain": [
              "{1: 'First', 2: 'Second', 3: 'Third', 4: 'Fourth'}"
            ]
          },
          "metadata": {
            "tags": []
          },
          "execution_count": 23
        }
      ]
    },
    {
      "cell_type": "code",
      "metadata": {
        "id": "xD6x3Zbt5_0u",
        "colab": {
          "base_uri": "https://localhost:8080/",
          "height": 204
        },
        "outputId": "845e384d-7daa-4290-99da-4a0c4e6bce0d"
      },
      "source": [
        "# removing element\n",
        "# del dict_name[key]\n",
        "# dict_name.pop(key)\n",
        "\n",
        "print('dict2 Before delete method 1\\n',dict2,'\\n')\n",
        "del dict2[2]\n",
        "print('dict2 After delete method 1\\n', dict2,'\\n')\n",
        "\n",
        "print('dict2 Before delete method 2\\n',dict2,'\\n')\n",
        "dict2.pop(1)\n",
        "print('dict2 After delete method 2\\n', dict2)"
      ],
      "execution_count": null,
      "outputs": [
        {
          "output_type": "stream",
          "text": [
            "dict2 Before delete method 1\n",
            " {1: 'First', 2: 'Second'} \n",
            "\n",
            "dict2 After delete method 1\n",
            " {1: 'First'} \n",
            "\n",
            "dict2 Before delete method 2\n",
            " {1: 'First'} \n",
            "\n",
            "dict2 After delete method 2\n",
            " {}\n"
          ],
          "name": "stdout"
        }
      ]
    },
    {
      "cell_type": "code",
      "metadata": {
        "id": "lTBOuVsS8zRu",
        "colab": {
          "base_uri": "https://localhost:8080/",
          "height": 85
        },
        "outputId": "1c0b83d2-9b38-4495-9272-2ead1797e7ef"
      },
      "source": [
        "# traversing dictionary\n",
        "\n",
        "for key,value in dict3.items():\n",
        "  print(key,' : ',value)"
      ],
      "execution_count": null,
      "outputs": [
        {
          "output_type": "stream",
          "text": [
            "1  :  First\n",
            "2  :  Second\n",
            "3  :  Third\n",
            "4  :  Fourth\n"
          ],
          "name": "stdout"
        }
      ]
    },
    {
      "cell_type": "code",
      "metadata": {
        "id": "Fnfb4jb49Al0",
        "colab": {
          "base_uri": "https://localhost:8080/",
          "height": 51
        },
        "outputId": "d3e5cf1e-9385-4231-af3c-f63b7e70deeb"
      },
      "source": [
        "# All keys\n",
        "print(dict3.keys())\n",
        "\n",
        "#All values\n",
        "print(dict3.values())"
      ],
      "execution_count": null,
      "outputs": [
        {
          "output_type": "stream",
          "text": [
            "dict_keys([1, 2, 3, 4])\n",
            "dict_values(['First', 'Second', 'Third', 'Fourth'])\n"
          ],
          "name": "stdout"
        }
      ]
    },
    {
      "cell_type": "code",
      "metadata": {
        "id": "v0-J7oYv9X_t",
        "colab": {
          "base_uri": "https://localhost:8080/",
          "height": 51
        },
        "outputId": "8c7e8c83-b0b5-436a-c984-99b368716cd2"
      },
      "source": [
        "# Sort a dictionary by key\n",
        "\n",
        "print(sorted(dict3.items(), key=lambda k:k[0]))\n",
        "\n",
        "# Sort a dictionary by value\n",
        "\n",
        "print(sorted(dict3.items(), key=lambda k:k[1]))"
      ],
      "execution_count": null,
      "outputs": [
        {
          "output_type": "stream",
          "text": [
            "[(1, 'First'), (2, 'Second'), (3, 'Third'), (4, 'Fourth')]\n",
            "[(1, 'First'), (4, 'Fourth'), (2, 'Second'), (3, 'Third')]\n"
          ],
          "name": "stdout"
        }
      ]
    },
    {
      "cell_type": "markdown",
      "metadata": {
        "id": "YM0vxnuJWxQW"
      },
      "source": [
        "# Tuple"
      ]
    },
    {
      "cell_type": "markdown",
      "metadata": {
        "id": "s8QK9BMVAQ3W"
      },
      "source": [
        "\n",
        "\n",
        "*   Immutable (Unchangeble)\n",
        "*   Ordered\n",
        "*   Comma seperated objects enclosed within ( )"
      ]
    },
    {
      "cell_type": "markdown",
      "metadata": {
        "id": "WEfC9cvYAoHz"
      },
      "source": [
        "**Declaration**"
      ]
    },
    {
      "cell_type": "code",
      "metadata": {
        "id": "pEFu2y6p1A_F",
        "colab": {
          "base_uri": "https://localhost:8080/",
          "height": 51
        },
        "outputId": "d8cc06f7-4dbc-4176-ba2c-9c9cfc5378e4"
      },
      "source": [
        "tuple1=(1,2)\n",
        "tuple2=tuple([1,2,3])\n",
        "\n",
        "print(tuple1,'\\n',tuple2)"
      ],
      "execution_count": null,
      "outputs": [
        {
          "output_type": "stream",
          "text": [
            "(1, 2) \n",
            " (1, 2, 3)\n"
          ],
          "name": "stdout"
        }
      ]
    },
    {
      "cell_type": "code",
      "metadata": {
        "id": "xERCAHO1BNAa",
        "colab": {
          "base_uri": "https://localhost:8080/",
          "height": 34
        },
        "outputId": "5423952e-344e-4cc6-9a90-26af8e9b401c"
      },
      "source": [
        "# accesiing elements\n",
        "# tuple_name[index]\n",
        "\n",
        "tuple2[2]"
      ],
      "execution_count": null,
      "outputs": [
        {
          "output_type": "execute_result",
          "data": {
            "text/plain": [
              "3"
            ]
          },
          "metadata": {
            "tags": []
          },
          "execution_count": 32
        }
      ]
    },
    {
      "cell_type": "markdown",
      "metadata": {
        "id": "oQjj8oHGBuNk"
      },
      "source": [
        "**Operations**"
      ]
    },
    {
      "cell_type": "code",
      "metadata": {
        "id": "Hx4fuFBxByOp",
        "colab": {
          "base_uri": "https://localhost:8080/",
          "height": 34
        },
        "outputId": "eb89cd9b-d9f9-4cda-897a-a53e51d4b1c1"
      },
      "source": [
        "# concatenation\n",
        "# + operator is used\n",
        "\n",
        "print(tuple1 + tuple2)"
      ],
      "execution_count": null,
      "outputs": [
        {
          "output_type": "stream",
          "text": [
            "(1, 2, 1, 2, 3)\n"
          ],
          "name": "stdout"
        }
      ]
    },
    {
      "cell_type": "code",
      "metadata": {
        "id": "JZH3CTn1CJov"
      },
      "source": [
        "# deleting tuple\n",
        "# Note: Can't delete element\n",
        "\n",
        "temp_tuple=(1,1,1,1)\n",
        "print('before delete\\n',temp_tuple)\n",
        "del temp_tuple\n",
        "temp_tuple"
      ],
      "execution_count": null,
      "outputs": []
    },
    {
      "cell_type": "code",
      "metadata": {
        "id": "eS0I-7VFCsUi",
        "colab": {
          "base_uri": "https://localhost:8080/",
          "height": 34
        },
        "outputId": "a0f1af50-783d-432c-948b-90de953fa86a"
      },
      "source": [
        "# length of tuple\n",
        "# len(tuple_name)\n",
        "\n",
        "print(len(tuple1))"
      ],
      "execution_count": null,
      "outputs": [
        {
          "output_type": "stream",
          "text": [
            "2\n"
          ],
          "name": "stdout"
        }
      ]
    },
    {
      "cell_type": "code",
      "metadata": {
        "id": "qEL9TM6TC0h-",
        "colab": {
          "base_uri": "https://localhost:8080/",
          "height": 34
        },
        "outputId": "6781d3f1-6d83-4e72-96ef-1e56aeb981ce"
      },
      "source": [
        "# maximum and minimum elements\n",
        "\n",
        "print(max(tuple2),min(tuple2))"
      ],
      "execution_count": null,
      "outputs": [
        {
          "output_type": "stream",
          "text": [
            "3 1\n"
          ],
          "name": "stdout"
        }
      ]
    },
    {
      "cell_type": "markdown",
      "metadata": {
        "id": "fLtfFMN6Wz-O"
      },
      "source": [
        "# Regular Expression"
      ]
    },
    {
      "cell_type": "code",
      "metadata": {
        "id": "pyKDrgTUGrN-"
      },
      "source": [
        "import re"
      ],
      "execution_count": null,
      "outputs": []
    },
    {
      "cell_type": "code",
      "metadata": {
        "id": "RrJv1uu0Czvd"
      },
      "source": [
        "text='''In the early days, many language-processing systems were designed by hand-\n",
        "        coding a set of rules,[9],[10] e.g. by writing grammars or devising heuristic \n",
        "        rules for stemming. However, this is rarely robust to natural language variation.\n",
        "        Since the so-called \"statistical revolution\"[11][12] in the late 1980s and mid \n",
        "        1990s, much natural language processing research has relied heavily on machine \n",
        "        learning.The machine-learning paradigm calls instead for using statistical inference \n",
        "        to automatically learn such rules through the analysis of large corpora of typical\n",
        "        real-world examples (a corpus (plural, \"corpora\") is a set of documents, possibly \n",
        "        with human or computer annotations).Many different classes of machine-learning \n",
        "        algorithms have been applied to natural-language-processing tasks. These \n",
        "        algorithms take as input a large set of \"features\" that are generated from the \n",
        "        input data. Some of the earliest-used algorithms, such as decision trees, produced \n",
        "        systems of hard if-then rules similar to the systems of hand-written rules that were \n",
        "        then common. Increasingly, however, research has focused on statistical models, \n",
        "        which make soft, probabilistic decisions based on attaching real-valued weights \n",
        "        to each input feature. Such models have the advantage that they can express the \n",
        "        relative certainty of many different possible answers rather than only one, producing\n",
        "        more reliable results when such a model is included as a component of a larger system.'''"
      ],
      "execution_count": null,
      "outputs": []
    },
    {
      "cell_type": "markdown",
      "metadata": {
        "id": "tNWQ14iXFBQx"
      },
      "source": [
        "**RegEx functions**"
      ]
    },
    {
      "cell_type": "code",
      "metadata": {
        "id": "VyS-Vm6FEmJ8",
        "colab": {
          "base_uri": "https://localhost:8080/",
          "height": 34
        },
        "outputId": "8fde38c7-cc8f-42ae-dec0-0ea7532f2723"
      },
      "source": [
        "# findall\n",
        "# search and returns all the matches in the string\n",
        "\n",
        "re.findall(\"language\", text)\n"
      ],
      "execution_count": null,
      "outputs": [
        {
          "output_type": "execute_result",
          "data": {
            "text/plain": [
              "['language', 'language', 'language', 'language']"
            ]
          },
          "metadata": {
            "tags": []
          },
          "execution_count": 3
        }
      ]
    },
    {
      "cell_type": "code",
      "metadata": {
        "id": "HXlLdj-gG7Ue",
        "colab": {
          "base_uri": "https://localhost:8080/",
          "height": 34
        },
        "outputId": "e6aecccd-4cf7-4e0d-f2dc-0ae0fa1caae5"
      },
      "source": [
        "# search\n",
        "# search and return the location of first occurence in the string\n",
        "\n",
        "x=re.search(\"the\", text)\n",
        "x.start()"
      ],
      "execution_count": null,
      "outputs": [
        {
          "output_type": "execute_result",
          "data": {
            "text/plain": [
              "3"
            ]
          },
          "metadata": {
            "tags": []
          },
          "execution_count": 10
        }
      ]
    },
    {
      "cell_type": "code",
      "metadata": {
        "id": "Xg3XtSmtHuC3",
        "colab": {
          "base_uri": "https://localhost:8080/",
          "height": 51
        },
        "outputId": "5a06e19a-aa78-4344-f8ae-fac755d1322b"
      },
      "source": [
        "# substitute\n",
        "# replace the text\n",
        "\n",
        "print('Occurence of \"In\" in the text before replace:',re.findall(\"In\", text))\n",
        "new_text=re.sub('In','Out',text)\n",
        "print('Occurence of \"In\" in the text after replace:',re.findall(\"In\", new_text))\n"
      ],
      "execution_count": null,
      "outputs": [
        {
          "output_type": "stream",
          "text": [
            "Occurence of \"In\" in the text before replace: ['In', 'In']\n",
            "Occurence of \"In\" in the text after replace: []\n"
          ],
          "name": "stdout"
        }
      ]
    },
    {
      "cell_type": "markdown",
      "metadata": {
        "id": "t7hKMVdQW4tS"
      },
      "source": [
        "# File Handling"
      ]
    },
    {
      "cell_type": "markdown",
      "metadata": {
        "id": "ZqiaR927Dzy1"
      },
      "source": [
        "*   Working with text files\n",
        "*   Working with csv files -- Pandas\n"
      ]
    },
    {
      "cell_type": "code",
      "metadata": {
        "id": "hsVyWakLDF0w",
        "colab": {
          "base_uri": "https://localhost:8080/",
          "height": 1000
        },
        "outputId": "f6a9b6a8-0be1-4552-b869-2c50b6c1ed18"
      },
      "source": [
        "# Reading a file\n",
        "filename='/content/sample_text'\n",
        "with open(filename,'r') as file:\n",
        "  print(file.read())"
      ],
      "execution_count": null,
      "outputs": [
        {
          "output_type": "stream",
          "text": [
            "The following are the graphical (non-control) characters defined by\n",
            "ISO 8859-1 (1987).  Descriptions in words aren't all that helpful,\n",
            "but they're the best we can do in text.  A graphics file illustrating\n",
            "the character set should be available from the same archive as this\n",
            "file.\n",
            "\n",
            "Hex Description                 Hex Description\n",
            "\n",
            "20  SPACE\n",
            "21  EXCLAMATION MARK            A1  INVERTED EXCLAMATION MARK\n",
            "22  QUOTATION MARK              A2  CENT SIGN\n",
            "23  NUMBER SIGN                 A3  POUND SIGN\n",
            "24  DOLLAR SIGN                 A4  CURRENCY SIGN\n",
            "25  PERCENT SIGN                A5  YEN SIGN\n",
            "26  AMPERSAND                   A6  BROKEN BAR\n",
            "27  APOSTROPHE                  A7  SECTION SIGN\n",
            "28  LEFT PARENTHESIS            A8  DIAERESIS\n",
            "29  RIGHT PARENTHESIS           A9  COPYRIGHT SIGN\n",
            "2A  ASTERISK                    AA  FEMININE ORDINAL INDICATOR\n",
            "2B  PLUS SIGN                   AB  LEFT-POINTING DOUBLE ANGLE QUOTATION MARK\n",
            "2C  COMMA                       AC  NOT SIGN\n",
            "2D  HYPHEN-MINUS                AD  SOFT HYPHEN\n",
            "2E  FULL STOP                   AE  REGISTERED SIGN\n",
            "2F  SOLIDUS                     AF  OVERLINE\n",
            "30  DIGIT ZERO                  B0  DEGREE SIGN\n",
            "31  DIGIT ONE                   B1  PLUS-MINUS SIGN\n",
            "32  DIGIT TWO                   B2  SUPERSCRIPT TWO\n",
            "33  DIGIT THREE                 B3  SUPERSCRIPT THREE\n",
            "34  DIGIT FOUR                  B4  ACUTE ACCENT\n",
            "35  DIGIT FIVE                  B5  MICRO SIGN\n",
            "36  DIGIT SIX                   B6  PILCROW SIGN\n",
            "37  DIGIT SEVEN                 B7  MIDDLE DOT\n",
            "38  DIGIT EIGHT                 B8  CEDILLA\n",
            "39  DIGIT NINE                  B9  SUPERSCRIPT ONE\n",
            "3A  COLON                       BA  MASCULINE ORDINAL INDICATOR\n",
            "3B  SEMICOLON                   BB  RIGHT-POINTING DOUBLE ANGLE QUOTATION MARK\n",
            "3C  LESS-THAN SIGN              BC  VULGAR FRACTION ONE QUARTER\n",
            "3D  EQUALS SIGN                 BD  VULGAR FRACTION ONE HALF\n",
            "3E  GREATER-THAN SIGN           BE  VULGAR FRACTION THREE QUARTERS\n",
            "3F  QUESTION MARK               BF  INVERTED QUESTION MARK\n",
            "40  COMMERCIAL AT               C0  CAPITAL LETTER A WITH GRAVE\n",
            "41  CAPITAL LETTER A            C1  CAPITAL LETTER A WITH ACUTE\n",
            "42  CAPITAL LETTER B            C2  CAPITAL LETTER A WITH CIRCUMFLEX\n",
            "43  CAPITAL LETTER C            C3  CAPITAL LETTER A WITH TILDE\n",
            "44  CAPITAL LETTER D            C4  CAPITAL LETTER A WITH DIAERESIS\n",
            "45  CAPITAL LETTER E            C5  CAPITAL LETTER A WITH RING ABOVE\n",
            "46  CAPITAL LETTER F            C6  CAPITAL LETTER AE\n",
            "47  CAPITAL LETTER G            C7  CAPITAL LETTER C WITH CEDILLA\n",
            "48  CAPITAL LETTER H            C8  CAPITAL LETTER E WITH GRAVE\n",
            "49  CAPITAL LETTER I            C9  CAPITAL LETTER E WITH ACUTE\n",
            "4A  CAPITAL LETTER J            CA  CAPITAL LETTER E WITH CIRCUMFLEX\n",
            "4B  CAPITAL LETTER K            CB  CAPITAL LETTER E WITH DIAERESIS\n",
            "4C  CAPITAL LETTER L            CC  CAPITAL LETTER I WITH GRAVE\n",
            "4D  CAPITAL LETTER M            CD  CAPITAL LETTER I WITH ACUTE\n",
            "4E  CAPITAL LETTER N            CE  CAPITAL LETTER I WITH CIRCUMFLEX\n",
            "4F  CAPITAL LETTER O            CF  CAPITAL LETTER I WITH DIAERESIS\n",
            "50  CAPITAL LETTER P            D0  CAPITAL LETTER ETH (Icelandic)\n",
            "51  CAPITAL LETTER Q            D1  CAPITAL LETTER N WITH TILDE\n",
            "52  CAPITAL LETTER R            D2  CAPITAL LETTER O WITH GRAVE\n",
            "53  CAPITAL LETTER S            D3  CAPITAL LETTER O WITH ACUTE\n",
            "54  CAPITAL LETTER T            D4  CAPITAL LETTER O WITH CIRCUMFLEX\n",
            "55  CAPITAL LETTER U            D5  CAPITAL LETTER O WITH TILDE\n",
            "56  CAPITAL LETTER V            D6  CAPITAL LETTER O WITH DIAERESIS\n",
            "57  CAPITAL LETTER W            D7  MULTIPLICATION SIGN\n",
            "58  CAPITAL LETTER X            D8  CAPITAL LETTER O WITH STROKE\n",
            "59  CAPITAL LETTER Y            D9  CAPITAL LETTER U WITH GRAVE\n",
            "5A  CAPITAL LETTER Z            DA  CAPITAL LETTER U WITH ACUTE\n",
            "5B  LEFT SQUARE BRACKET         DB  CAPITAL LETTER U WITH CIRCUMFLEX\n",
            "5C  REVERSE SOLIDUS             DC  CAPITAL LETTER U WITH DIAERESIS\n",
            "5D  RIGHT SQUARE BRACKET        DD  CAPITAL LETTER Y WITH ACUTE\n",
            "5E  CIRCUMFLEX ACCENT           DE  CAPITAL LETTER THORN (Icelandic)\n",
            "5F  LOW LINE                    DF  SMALL LETTER SHARP S (German)\n",
            "60  GRAVE ACCENT                E0  SMALL LETTER A WITH GRAVE\n",
            "61  SMALL LETTER A              E1  SMALL LETTER A WITH ACUTE\n",
            "62  SMALL LETTER B              E2  SMALL LETTER A WITH CIRCUMFLEX\n",
            "63  SMALL LETTER C              E3  SMALL LETTER A WITH TILDE\n",
            "64  SMALL LETTER D              E4  SMALL LETTER A WITH DIAERESIS\n",
            "65  SMALL LETTER E              E5  SMALL LETTER A WITH RING ABOVE\n",
            "66  SMALL LETTER F              E6  SMALL LETTER AE\n",
            "67  SMALL LETTER G              E7  SMALL LETTER C WITH CEDILLA\n",
            "68  SMALL LETTER H              E8  SMALL LETTER E WITH GRAVE\n",
            "69  SMALL LETTER I              E9  SMALL LETTER E WITH ACUTE\n",
            "6A  SMALL LETTER J              EA  SMALL LETTER E WITH CIRCUMFLEX\n",
            "6B  SMALL LETTER K              EB  SMALL LETTER E WITH DIAERESIS\n",
            "6C  SMALL LETTER L              EC  SMALL LETTER I WITH GRAVE\n",
            "6D  SMALL LETTER M              ED  SMALL LETTER I WITH ACUTE\n",
            "6E  SMALL LETTER N              EE  SMALL LETTER I WITH CIRCUMFLEX\n",
            "6F  SMALL LETTER O              EF  SMALL LETTER I WITH DIAERESIS\n",
            "70  SMALL LETTER P              F0  SMALL LETTER ETH (Icelandic)\n",
            "71  SMALL LETTER Q              F1  SMALL LETTER N WITH TILDE\n",
            "72  SMALL LETTER R              F2  SMALL LETTER O WITH GRAVE\n",
            "73  SMALL LETTER S              F3  SMALL LETTER O WITH ACUTE\n",
            "74  SMALL LETTER T              F4  SMALL LETTER O WITH CIRCUMFLEX\n",
            "75  SMALL LETTER U              F5  SMALL LETTER O WITH TILDE\n",
            "76  SMALL LETTER V              F6  SMALL LETTER O WITH DIAERESIS\n",
            "77  SMALL LETTER W              F7  DIVISION SIGN\n",
            "78  SMALL LETTER X              F8  SMALL LETTER O WITH STROKE\n",
            "79  SMALL LETTER Y              F9  SMALL LETTER U WITH GRAVE\n",
            "7A  SMALL LETTER Z              FA  SMALL LETTER U WITH ACUTE\n",
            "7B  LEFT CURLY BRACKET          FB  SMALL LETTER U WITH CIRCUMFLEX\n",
            "7C  VERTICAL LINE               FC  SMALL LETTER U WITH DIAERESIS\n",
            "7D  RIGHT CURLY BRACKET         FD  SMALL LETTER Y WITH ACUTE\n",
            "7E  TILDE                       FE  SMALL LETTER THORN (Icelandic)\n",
            "                                FF  SMALL LETTER Y WITH DIAERESIS\n",
            "\n"
          ],
          "name": "stdout"
        }
      ]
    },
    {
      "cell_type": "code",
      "metadata": {
        "id": "Tn0WfNMMGhuk",
        "colab": {
          "base_uri": "https://localhost:8080/",
          "height": 34
        },
        "outputId": "aae01784-be8f-413c-da5e-ffe5913d4e2a"
      },
      "source": [
        "# writing to file\n",
        "# careful! content will be overwritten\n",
        "\n",
        "filename='/content/sample_text'\n",
        "with open(filename,'w') as file:\n",
        "  print(file.write('this is new text!'))"
      ],
      "execution_count": null,
      "outputs": [
        {
          "output_type": "stream",
          "text": [
            "17\n"
          ],
          "name": "stdout"
        }
      ]
    },
    {
      "cell_type": "code",
      "metadata": {
        "id": "h4Wo3nFSHDnx",
        "colab": {
          "base_uri": "https://localhost:8080/",
          "height": 1000
        },
        "outputId": "dc869194-e032-428b-b8f5-b8a07dafbabb"
      },
      "source": [
        "# appending to file\n",
        "\n",
        "filename='/content/sample_text'\n",
        "with open(filename,'a') as file:\n",
        "  print(file.write('this is new text'))\n",
        "\n",
        "with open(filename,'r') as file:\n",
        "  print(file.read())"
      ],
      "execution_count": null,
      "outputs": [
        {
          "output_type": "stream",
          "text": [
            "16\n",
            "The following are the graphical (non-control) characters defined by\n",
            "ISO 8859-1 (1987).  Descriptions in words aren't all that helpful,\n",
            "but they're the best we can do in text.  A graphics file illustrating\n",
            "the character set should be available from the same archive as this\n",
            "file.\n",
            "\n",
            "Hex Description                 Hex Description\n",
            "\n",
            "20  SPACE\n",
            "21  EXCLAMATION MARK            A1  INVERTED EXCLAMATION MARK\n",
            "22  QUOTATION MARK              A2  CENT SIGN\n",
            "23  NUMBER SIGN                 A3  POUND SIGN\n",
            "24  DOLLAR SIGN                 A4  CURRENCY SIGN\n",
            "25  PERCENT SIGN                A5  YEN SIGN\n",
            "26  AMPERSAND                   A6  BROKEN BAR\n",
            "27  APOSTROPHE                  A7  SECTION SIGN\n",
            "28  LEFT PARENTHESIS            A8  DIAERESIS\n",
            "29  RIGHT PARENTHESIS           A9  COPYRIGHT SIGN\n",
            "2A  ASTERISK                    AA  FEMININE ORDINAL INDICATOR\n",
            "2B  PLUS SIGN                   AB  LEFT-POINTING DOUBLE ANGLE QUOTATION MARK\n",
            "2C  COMMA                       AC  NOT SIGN\n",
            "2D  HYPHEN-MINUS                AD  SOFT HYPHEN\n",
            "2E  FULL STOP                   AE  REGISTERED SIGN\n",
            "2F  SOLIDUS                     AF  OVERLINE\n",
            "30  DIGIT ZERO                  B0  DEGREE SIGN\n",
            "31  DIGIT ONE                   B1  PLUS-MINUS SIGN\n",
            "32  DIGIT TWO                   B2  SUPERSCRIPT TWO\n",
            "33  DIGIT THREE                 B3  SUPERSCRIPT THREE\n",
            "34  DIGIT FOUR                  B4  ACUTE ACCENT\n",
            "35  DIGIT FIVE                  B5  MICRO SIGN\n",
            "36  DIGIT SIX                   B6  PILCROW SIGN\n",
            "37  DIGIT SEVEN                 B7  MIDDLE DOT\n",
            "38  DIGIT EIGHT                 B8  CEDILLA\n",
            "39  DIGIT NINE                  B9  SUPERSCRIPT ONE\n",
            "3A  COLON                       BA  MASCULINE ORDINAL INDICATOR\n",
            "3B  SEMICOLON                   BB  RIGHT-POINTING DOUBLE ANGLE QUOTATION MARK\n",
            "3C  LESS-THAN SIGN              BC  VULGAR FRACTION ONE QUARTER\n",
            "3D  EQUALS SIGN                 BD  VULGAR FRACTION ONE HALF\n",
            "3E  GREATER-THAN SIGN           BE  VULGAR FRACTION THREE QUARTERS\n",
            "3F  QUESTION MARK               BF  INVERTED QUESTION MARK\n",
            "40  COMMERCIAL AT               C0  CAPITAL LETTER A WITH GRAVE\n",
            "41  CAPITAL LETTER A            C1  CAPITAL LETTER A WITH ACUTE\n",
            "42  CAPITAL LETTER B            C2  CAPITAL LETTER A WITH CIRCUMFLEX\n",
            "43  CAPITAL LETTER C            C3  CAPITAL LETTER A WITH TILDE\n",
            "44  CAPITAL LETTER D            C4  CAPITAL LETTER A WITH DIAERESIS\n",
            "45  CAPITAL LETTER E            C5  CAPITAL LETTER A WITH RING ABOVE\n",
            "46  CAPITAL LETTER F            C6  CAPITAL LETTER AE\n",
            "47  CAPITAL LETTER G            C7  CAPITAL LETTER C WITH CEDILLA\n",
            "48  CAPITAL LETTER H            C8  CAPITAL LETTER E WITH GRAVE\n",
            "49  CAPITAL LETTER I            C9  CAPITAL LETTER E WITH ACUTE\n",
            "4A  CAPITAL LETTER J            CA  CAPITAL LETTER E WITH CIRCUMFLEX\n",
            "4B  CAPITAL LETTER K            CB  CAPITAL LETTER E WITH DIAERESIS\n",
            "4C  CAPITAL LETTER L            CC  CAPITAL LETTER I WITH GRAVE\n",
            "4D  CAPITAL LETTER M            CD  CAPITAL LETTER I WITH ACUTE\n",
            "4E  CAPITAL LETTER N            CE  CAPITAL LETTER I WITH CIRCUMFLEX\n",
            "4F  CAPITAL LETTER O            CF  CAPITAL LETTER I WITH DIAERESIS\n",
            "50  CAPITAL LETTER P            D0  CAPITAL LETTER ETH (Icelandic)\n",
            "51  CAPITAL LETTER Q            D1  CAPITAL LETTER N WITH TILDE\n",
            "52  CAPITAL LETTER R            D2  CAPITAL LETTER O WITH GRAVE\n",
            "53  CAPITAL LETTER S            D3  CAPITAL LETTER O WITH ACUTE\n",
            "54  CAPITAL LETTER T            D4  CAPITAL LETTER O WITH CIRCUMFLEX\n",
            "55  CAPITAL LETTER U            D5  CAPITAL LETTER O WITH TILDE\n",
            "56  CAPITAL LETTER V            D6  CAPITAL LETTER O WITH DIAERESIS\n",
            "57  CAPITAL LETTER W            D7  MULTIPLICATION SIGN\n",
            "58  CAPITAL LETTER X            D8  CAPITAL LETTER O WITH STROKE\n",
            "59  CAPITAL LETTER Y            D9  CAPITAL LETTER U WITH GRAVE\n",
            "5A  CAPITAL LETTER Z            DA  CAPITAL LETTER U WITH ACUTE\n",
            "5B  LEFT SQUARE BRACKET         DB  CAPITAL LETTER U WITH CIRCUMFLEX\n",
            "5C  REVERSE SOLIDUS             DC  CAPITAL LETTER U WITH DIAERESIS\n",
            "5D  RIGHT SQUARE BRACKET        DD  CAPITAL LETTER Y WITH ACUTE\n",
            "5E  CIRCUMFLEX ACCENT           DE  CAPITAL LETTER THORN (Icelandic)\n",
            "5F  LOW LINE                    DF  SMALL LETTER SHARP S (German)\n",
            "60  GRAVE ACCENT                E0  SMALL LETTER A WITH GRAVE\n",
            "61  SMALL LETTER A              E1  SMALL LETTER A WITH ACUTE\n",
            "62  SMALL LETTER B              E2  SMALL LETTER A WITH CIRCUMFLEX\n",
            "63  SMALL LETTER C              E3  SMALL LETTER A WITH TILDE\n",
            "64  SMALL LETTER D              E4  SMALL LETTER A WITH DIAERESIS\n",
            "65  SMALL LETTER E              E5  SMALL LETTER A WITH RING ABOVE\n",
            "66  SMALL LETTER F              E6  SMALL LETTER AE\n",
            "67  SMALL LETTER G              E7  SMALL LETTER C WITH CEDILLA\n",
            "68  SMALL LETTER H              E8  SMALL LETTER E WITH GRAVE\n",
            "69  SMALL LETTER I              E9  SMALL LETTER E WITH ACUTE\n",
            "6A  SMALL LETTER J              EA  SMALL LETTER E WITH CIRCUMFLEX\n",
            "6B  SMALL LETTER K              EB  SMALL LETTER E WITH DIAERESIS\n",
            "6C  SMALL LETTER L              EC  SMALL LETTER I WITH GRAVE\n",
            "6D  SMALL LETTER M              ED  SMALL LETTER I WITH ACUTE\n",
            "6E  SMALL LETTER N              EE  SMALL LETTER I WITH CIRCUMFLEX\n",
            "6F  SMALL LETTER O              EF  SMALL LETTER I WITH DIAERESIS\n",
            "70  SMALL LETTER P              F0  SMALL LETTER ETH (Icelandic)\n",
            "71  SMALL LETTER Q              F1  SMALL LETTER N WITH TILDE\n",
            "72  SMALL LETTER R              F2  SMALL LETTER O WITH GRAVE\n",
            "73  SMALL LETTER S              F3  SMALL LETTER O WITH ACUTE\n",
            "74  SMALL LETTER T              F4  SMALL LETTER O WITH CIRCUMFLEX\n",
            "75  SMALL LETTER U              F5  SMALL LETTER O WITH TILDE\n",
            "76  SMALL LETTER V              F6  SMALL LETTER O WITH DIAERESIS\n",
            "77  SMALL LETTER W              F7  DIVISION SIGN\n",
            "78  SMALL LETTER X              F8  SMALL LETTER O WITH STROKE\n",
            "79  SMALL LETTER Y              F9  SMALL LETTER U WITH GRAVE\n",
            "7A  SMALL LETTER Z              FA  SMALL LETTER U WITH ACUTE\n",
            "7B  LEFT CURLY BRACKET          FB  SMALL LETTER U WITH CIRCUMFLEX\n",
            "7C  VERTICAL LINE               FC  SMALL LETTER U WITH DIAERESIS\n",
            "7D  RIGHT CURLY BRACKET         FD  SMALL LETTER Y WITH ACUTE\n",
            "7E  TILDE                       FE  SMALL LETTER THORN (Icelandic)\n",
            "                                FF  SMALL LETTER Y WITH DIAERESIS\n",
            "this is new textthis is new text\n"
          ],
          "name": "stdout"
        }
      ]
    },
    {
      "cell_type": "code",
      "metadata": {
        "id": "k3-QcEI6HyMW",
        "colab": {
          "base_uri": "https://localhost:8080/",
          "height": 1000
        },
        "outputId": "06b8f254-c731-445c-f0ee-1ed110d2e661"
      },
      "source": [
        "# readlines\n",
        "\n",
        "with open(filename,'r') as file:\n",
        "  lines=file.readlines()\n",
        "  for line in lines:\n",
        "    print(line)"
      ],
      "execution_count": null,
      "outputs": [
        {
          "output_type": "stream",
          "text": [
            "The following are the graphical (non-control) characters defined by\n",
            "\n",
            "ISO 8859-1 (1987).  Descriptions in words aren't all that helpful,\n",
            "\n",
            "but they're the best we can do in text.  A graphics file illustrating\n",
            "\n",
            "the character set should be available from the same archive as this\n",
            "\n",
            "file.\n",
            "\n",
            "\n",
            "\n",
            "Hex Description                 Hex Description\n",
            "\n",
            "\n",
            "\n",
            "20  SPACE\n",
            "\n",
            "21  EXCLAMATION MARK            A1  INVERTED EXCLAMATION MARK\n",
            "\n",
            "22  QUOTATION MARK              A2  CENT SIGN\n",
            "\n",
            "23  NUMBER SIGN                 A3  POUND SIGN\n",
            "\n",
            "24  DOLLAR SIGN                 A4  CURRENCY SIGN\n",
            "\n",
            "25  PERCENT SIGN                A5  YEN SIGN\n",
            "\n",
            "26  AMPERSAND                   A6  BROKEN BAR\n",
            "\n",
            "27  APOSTROPHE                  A7  SECTION SIGN\n",
            "\n",
            "28  LEFT PARENTHESIS            A8  DIAERESIS\n",
            "\n",
            "29  RIGHT PARENTHESIS           A9  COPYRIGHT SIGN\n",
            "\n",
            "2A  ASTERISK                    AA  FEMININE ORDINAL INDICATOR\n",
            "\n",
            "2B  PLUS SIGN                   AB  LEFT-POINTING DOUBLE ANGLE QUOTATION MARK\n",
            "\n",
            "2C  COMMA                       AC  NOT SIGN\n",
            "\n",
            "2D  HYPHEN-MINUS                AD  SOFT HYPHEN\n",
            "\n",
            "2E  FULL STOP                   AE  REGISTERED SIGN\n",
            "\n",
            "2F  SOLIDUS                     AF  OVERLINE\n",
            "\n",
            "30  DIGIT ZERO                  B0  DEGREE SIGN\n",
            "\n",
            "31  DIGIT ONE                   B1  PLUS-MINUS SIGN\n",
            "\n",
            "32  DIGIT TWO                   B2  SUPERSCRIPT TWO\n",
            "\n",
            "33  DIGIT THREE                 B3  SUPERSCRIPT THREE\n",
            "\n",
            "34  DIGIT FOUR                  B4  ACUTE ACCENT\n",
            "\n",
            "35  DIGIT FIVE                  B5  MICRO SIGN\n",
            "\n",
            "36  DIGIT SIX                   B6  PILCROW SIGN\n",
            "\n",
            "37  DIGIT SEVEN                 B7  MIDDLE DOT\n",
            "\n",
            "38  DIGIT EIGHT                 B8  CEDILLA\n",
            "\n",
            "39  DIGIT NINE                  B9  SUPERSCRIPT ONE\n",
            "\n",
            "3A  COLON                       BA  MASCULINE ORDINAL INDICATOR\n",
            "\n",
            "3B  SEMICOLON                   BB  RIGHT-POINTING DOUBLE ANGLE QUOTATION MARK\n",
            "\n",
            "3C  LESS-THAN SIGN              BC  VULGAR FRACTION ONE QUARTER\n",
            "\n",
            "3D  EQUALS SIGN                 BD  VULGAR FRACTION ONE HALF\n",
            "\n",
            "3E  GREATER-THAN SIGN           BE  VULGAR FRACTION THREE QUARTERS\n",
            "\n",
            "3F  QUESTION MARK               BF  INVERTED QUESTION MARK\n",
            "\n",
            "40  COMMERCIAL AT               C0  CAPITAL LETTER A WITH GRAVE\n",
            "\n",
            "41  CAPITAL LETTER A            C1  CAPITAL LETTER A WITH ACUTE\n",
            "\n",
            "42  CAPITAL LETTER B            C2  CAPITAL LETTER A WITH CIRCUMFLEX\n",
            "\n",
            "43  CAPITAL LETTER C            C3  CAPITAL LETTER A WITH TILDE\n",
            "\n",
            "44  CAPITAL LETTER D            C4  CAPITAL LETTER A WITH DIAERESIS\n",
            "\n",
            "45  CAPITAL LETTER E            C5  CAPITAL LETTER A WITH RING ABOVE\n",
            "\n",
            "46  CAPITAL LETTER F            C6  CAPITAL LETTER AE\n",
            "\n",
            "47  CAPITAL LETTER G            C7  CAPITAL LETTER C WITH CEDILLA\n",
            "\n",
            "48  CAPITAL LETTER H            C8  CAPITAL LETTER E WITH GRAVE\n",
            "\n",
            "49  CAPITAL LETTER I            C9  CAPITAL LETTER E WITH ACUTE\n",
            "\n",
            "4A  CAPITAL LETTER J            CA  CAPITAL LETTER E WITH CIRCUMFLEX\n",
            "\n",
            "4B  CAPITAL LETTER K            CB  CAPITAL LETTER E WITH DIAERESIS\n",
            "\n",
            "4C  CAPITAL LETTER L            CC  CAPITAL LETTER I WITH GRAVE\n",
            "\n",
            "4D  CAPITAL LETTER M            CD  CAPITAL LETTER I WITH ACUTE\n",
            "\n",
            "4E  CAPITAL LETTER N            CE  CAPITAL LETTER I WITH CIRCUMFLEX\n",
            "\n",
            "4F  CAPITAL LETTER O            CF  CAPITAL LETTER I WITH DIAERESIS\n",
            "\n",
            "50  CAPITAL LETTER P            D0  CAPITAL LETTER ETH (Icelandic)\n",
            "\n",
            "51  CAPITAL LETTER Q            D1  CAPITAL LETTER N WITH TILDE\n",
            "\n",
            "52  CAPITAL LETTER R            D2  CAPITAL LETTER O WITH GRAVE\n",
            "\n",
            "53  CAPITAL LETTER S            D3  CAPITAL LETTER O WITH ACUTE\n",
            "\n",
            "54  CAPITAL LETTER T            D4  CAPITAL LETTER O WITH CIRCUMFLEX\n",
            "\n",
            "55  CAPITAL LETTER U            D5  CAPITAL LETTER O WITH TILDE\n",
            "\n",
            "56  CAPITAL LETTER V            D6  CAPITAL LETTER O WITH DIAERESIS\n",
            "\n",
            "57  CAPITAL LETTER W            D7  MULTIPLICATION SIGN\n",
            "\n",
            "58  CAPITAL LETTER X            D8  CAPITAL LETTER O WITH STROKE\n",
            "\n",
            "59  CAPITAL LETTER Y            D9  CAPITAL LETTER U WITH GRAVE\n",
            "\n",
            "5A  CAPITAL LETTER Z            DA  CAPITAL LETTER U WITH ACUTE\n",
            "\n",
            "5B  LEFT SQUARE BRACKET         DB  CAPITAL LETTER U WITH CIRCUMFLEX\n",
            "\n",
            "5C  REVERSE SOLIDUS             DC  CAPITAL LETTER U WITH DIAERESIS\n",
            "\n",
            "5D  RIGHT SQUARE BRACKET        DD  CAPITAL LETTER Y WITH ACUTE\n",
            "\n",
            "5E  CIRCUMFLEX ACCENT           DE  CAPITAL LETTER THORN (Icelandic)\n",
            "\n",
            "5F  LOW LINE                    DF  SMALL LETTER SHARP S (German)\n",
            "\n",
            "60  GRAVE ACCENT                E0  SMALL LETTER A WITH GRAVE\n",
            "\n",
            "61  SMALL LETTER A              E1  SMALL LETTER A WITH ACUTE\n",
            "\n",
            "62  SMALL LETTER B              E2  SMALL LETTER A WITH CIRCUMFLEX\n",
            "\n",
            "63  SMALL LETTER C              E3  SMALL LETTER A WITH TILDE\n",
            "\n",
            "64  SMALL LETTER D              E4  SMALL LETTER A WITH DIAERESIS\n",
            "\n",
            "65  SMALL LETTER E              E5  SMALL LETTER A WITH RING ABOVE\n",
            "\n",
            "66  SMALL LETTER F              E6  SMALL LETTER AE\n",
            "\n",
            "67  SMALL LETTER G              E7  SMALL LETTER C WITH CEDILLA\n",
            "\n",
            "68  SMALL LETTER H              E8  SMALL LETTER E WITH GRAVE\n",
            "\n",
            "69  SMALL LETTER I              E9  SMALL LETTER E WITH ACUTE\n",
            "\n",
            "6A  SMALL LETTER J              EA  SMALL LETTER E WITH CIRCUMFLEX\n",
            "\n",
            "6B  SMALL LETTER K              EB  SMALL LETTER E WITH DIAERESIS\n",
            "\n",
            "6C  SMALL LETTER L              EC  SMALL LETTER I WITH GRAVE\n",
            "\n",
            "6D  SMALL LETTER M              ED  SMALL LETTER I WITH ACUTE\n",
            "\n",
            "6E  SMALL LETTER N              EE  SMALL LETTER I WITH CIRCUMFLEX\n",
            "\n",
            "6F  SMALL LETTER O              EF  SMALL LETTER I WITH DIAERESIS\n",
            "\n",
            "70  SMALL LETTER P              F0  SMALL LETTER ETH (Icelandic)\n",
            "\n",
            "71  SMALL LETTER Q              F1  SMALL LETTER N WITH TILDE\n",
            "\n",
            "72  SMALL LETTER R              F2  SMALL LETTER O WITH GRAVE\n",
            "\n",
            "73  SMALL LETTER S              F3  SMALL LETTER O WITH ACUTE\n",
            "\n",
            "74  SMALL LETTER T              F4  SMALL LETTER O WITH CIRCUMFLEX\n",
            "\n",
            "75  SMALL LETTER U              F5  SMALL LETTER O WITH TILDE\n",
            "\n",
            "76  SMALL LETTER V              F6  SMALL LETTER O WITH DIAERESIS\n",
            "\n",
            "77  SMALL LETTER W              F7  DIVISION SIGN\n",
            "\n",
            "78  SMALL LETTER X              F8  SMALL LETTER O WITH STROKE\n",
            "\n",
            "79  SMALL LETTER Y              F9  SMALL LETTER U WITH GRAVE\n",
            "\n",
            "7A  SMALL LETTER Z              FA  SMALL LETTER U WITH ACUTE\n",
            "\n",
            "7B  LEFT CURLY BRACKET          FB  SMALL LETTER U WITH CIRCUMFLEX\n",
            "\n",
            "7C  VERTICAL LINE               FC  SMALL LETTER U WITH DIAERESIS\n",
            "\n",
            "7D  RIGHT CURLY BRACKET         FD  SMALL LETTER Y WITH ACUTE\n",
            "\n",
            "7E  TILDE                       FE  SMALL LETTER THORN (Icelandic)\n",
            "\n",
            "                                FF  SMALL LETTER Y WITH DIAERESIS\n",
            "\n",
            "this is new textthis is new text\n"
          ],
          "name": "stdout"
        }
      ]
    },
    {
      "cell_type": "code",
      "metadata": {
        "id": "L6b9QBO_IFAr"
      },
      "source": [
        ""
      ],
      "execution_count": null,
      "outputs": []
    }
  ]
}